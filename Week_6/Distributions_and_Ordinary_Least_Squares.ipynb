{
 "cells": [
  {
   "cell_type": "code",
   "execution_count": null,
   "metadata": {},
   "outputs": [],
   "source": [
    "import seaborn as sns\n",
    "import matplotlib.pyplot as plt\n",
    "import numpy as np\n",
    "%config InlineBackend.figure_format = 'retina'"
   ]
  },
  {
   "cell_type": "markdown",
   "metadata": {},
   "source": [
    "# Different Distributions\n",
    "\n",
    "In this section we will look at different distributions and plot them out. Additionally, we will consider what types of processes might have generated each of these distributions. \n",
    "\n",
    "The module `stats` in `scipy` has many useful distributions, below import from this module each of the following distributions:\n",
    "* `uniform`\n",
    "* `norm`\n",
    "* `bernoulli`\n",
    "* `poisson`"
   ]
  },
  {
   "cell_type": "code",
   "execution_count": null,
   "metadata": {},
   "outputs": [],
   "source": [
    "# Your code goes here"
   ]
  },
  {
   "cell_type": "markdown",
   "metadata": {},
   "source": [
    "Each of these distributions are represented as `classes` by `scipy`, in order generate a random sample from each of these distributions we use the method `rvs`. We will generate 1000 samples for each distribution and plot them out as a histogram, the argument you use to define the number of sample is `size`. You may want to look at the documentation when completing the parts, in order to do this use `?` (e.g. `uniform?`) and look at the `methods` section of the documentation to see what arguments `rvs` takes. \n",
    "\n",
    "\n",
    "#### Uniform Distribution\n",
    "\n",
    "Below create this histogram for the `uniform` distribution, with appropriate labels on each axis. "
   ]
  },
  {
   "cell_type": "code",
   "execution_count": null,
   "metadata": {},
   "outputs": [],
   "source": [
    "# Your code goes here"
   ]
  },
  {
   "cell_type": "markdown",
   "metadata": {},
   "source": [
    "#### Normal Distribution\n",
    "\n",
    "Now create the analagous histogram of a normal distribution with mean of 100 and standard deviation of 15."
   ]
  },
  {
   "cell_type": "code",
   "execution_count": null,
   "metadata": {},
   "outputs": [],
   "source": [
    "# Your code goes here"
   ]
  },
  {
   "cell_type": "markdown",
   "metadata": {},
   "source": [
    "#### Poisson Distribution\n",
    "\n",
    "Now create a histogram of a poisson distribution with mean 4"
   ]
  },
  {
   "cell_type": "code",
   "execution_count": null,
   "metadata": {},
   "outputs": [],
   "source": [
    "# Your code goes here"
   ]
  },
  {
   "cell_type": "markdown",
   "metadata": {},
   "source": [
    "#### Bernoulli Distribution\n",
    "\n",
    "Now create a histogram of 1000 samples from a Bernoulli distribution with a probabiliy of 0.5."
   ]
  },
  {
   "cell_type": "code",
   "execution_count": null,
   "metadata": {},
   "outputs": [],
   "source": [
    "# Your code goes here"
   ]
  },
  {
   "cell_type": "markdown",
   "metadata": {},
   "source": [
    "Can you think which distribution matches each of the data generation processes?\n",
    "\n",
    "1. Toss of a coin\n",
    "2. The serial number of any dollar bill chosen at random\n",
    "3. The number of hurricanes in a given year\n",
    "4. IQ scores in the general population"
   ]
  },
  {
   "cell_type": "markdown",
   "metadata": {},
   "source": [
    "# Simulating Data\n",
    "\n",
    "We are going to simulate idealized age and income data using these distributions. First create an array `age` that has 1000 random samples of a uniform distribution from 0 to 80 (Hint: you can use multiplication to scale the interval you desire). Additionally, create another array, `income`, with 1000 samples from a normal distribution that has a mean of 30 and a standard-deviation of 10 (working in units of 1000s of dollars). \n",
    "\n",
    "Make a scatter plot of these two arrays and calculate thier pearsons correlation coefficient and associated p-value - you will need to import this from `scipy.stats`."
   ]
  },
  {
   "cell_type": "code",
   "execution_count": null,
   "metadata": {},
   "outputs": [],
   "source": [
    "# Your code goes here"
   ]
  },
  {
   "cell_type": "markdown",
   "metadata": {},
   "source": [
    "Hopefully you have found that these two arrays are weakly and non-significantly (p>0.05) correlated, this is because the two arrays were created independantly. Next, we are going to look at simulating data in which `income` is related to `age`. In order to do this we will set up `income` so that its mean is no longer a single value but instead is a function of `age`, specifically it is is `0.2*age`. Create the same plot and calcualte the pearson correlation as above with `income` defined in this new way . \n",
    "\n",
    "You may also find `np.clip` useful to ensure that you do not gett anyone with negative income. "
   ]
  },
  {
   "cell_type": "code",
   "execution_count": null,
   "metadata": {},
   "outputs": [],
   "source": [
    "# Your code goes here"
   ]
  },
  {
   "cell_type": "markdown",
   "metadata": {},
   "source": [
    "# Ordinary Least Squares\n",
    "\n",
    "We will now perform ordinary least squares to see if we can recover the coefficient we used to simulate the data. For this we will use the library `statsmodels` (imported below for you). Look at the method `OLS` and by using the example in its documenation see if you can fit a linear model between the arrays `age` and `income` to see if you can recover the coefficient we used to generate the data."
   ]
  },
  {
   "cell_type": "code",
   "execution_count": null,
   "metadata": {},
   "outputs": [],
   "source": [
    "import statsmodels.api as sm"
   ]
  },
  {
   "cell_type": "code",
   "execution_count": null,
   "metadata": {},
   "outputs": [],
   "source": [
    "# Your code goes here"
   ]
  },
  {
   "cell_type": "markdown",
   "metadata": {},
   "source": [
    "Hopefully you would have created an object named `results`, this should have a method called `summary` - you can use this to generate a nice looking table showing various diagnostics of the fit. Try this below."
   ]
  },
  {
   "cell_type": "markdown",
   "metadata": {},
   "source": [
    "# Heteroscedasticity\n",
    "\n",
    "<div class=\"alert alert-block alert-info\">\n",
    "<b>Definition:</b> Heteroscedasticity is a fancy word for saying the variance of a variable is function of some other variable.\n",
    "</div>\n",
    "\n",
    "For ordinary least squares we assume that the variance is __fixed__ and that the mean is some function of another variable, now we are going to look at what happens when this is not the case. We want to create the same plot and pearson correlation we did previously only this time instead of the standard deviation of income being fixed set is a function of age: `0.4*age`"
   ]
  },
  {
   "cell_type": "code",
   "execution_count": null,
   "metadata": {},
   "outputs": [],
   "source": [
    "# Your code goes here"
   ]
  },
  {
   "cell_type": "markdown",
   "metadata": {},
   "source": [
    "Do you think that this is a more or less realistic situaton for the relationship between age and income than the situation above? Why?\n",
    "\n",
    "Fit the same ordinary least squares model you did before but now on this new simulated data, what is the new estimated coefficient realting `age` and `income`. "
   ]
  },
  {
   "cell_type": "code",
   "execution_count": null,
   "metadata": {},
   "outputs": [],
   "source": [
    "# Your code goes here"
   ]
  },
  {
   "cell_type": "markdown",
   "metadata": {},
   "source": [
    "Above we have shown that if data do not fit the assumptions of ordinary least squares (namely fixed variance) it can leave to erroneous results. Simulations are a very useful for developing an understanding and intuition for how statistical systems operate.\n",
    "\n",
    "<blockquote>\n",
    "    What I cannot create, I do not understand - <cite>Richard Feynman</cite>\n",
    "</blockquote>"
   ]
  }
 ],
 "metadata": {
  "kernelspec": {
   "display_name": "Python 3",
   "language": "python",
   "name": "python3"
  },
  "language_info": {
   "codemirror_mode": {
    "name": "ipython",
    "version": 3
   },
   "file_extension": ".py",
   "mimetype": "text/x-python",
   "name": "python",
   "nbconvert_exporter": "python",
   "pygments_lexer": "ipython3",
   "version": "3.7.1"
  }
 },
 "nbformat": 4,
 "nbformat_minor": 2
}
