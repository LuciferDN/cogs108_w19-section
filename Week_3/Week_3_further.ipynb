{
 "cells": [
  {
   "cell_type": "code",
   "execution_count": 42,
   "metadata": {},
   "outputs": [],
   "source": [
    "import seaborn as sns\n",
    "import pandas as pd\n",
    "import matplotlib.pyplot as plt\n",
    "import numpy as np"
   ]
  },
  {
   "cell_type": "markdown",
   "metadata": {},
   "source": [
    "# Titanic Dataset\n",
    "\n",
    "Below we import the titanic dataset as `df`, using the `head()` method print out the first `10` lines of the dataset."
   ]
  },
  {
   "cell_type": "code",
   "execution_count": 34,
   "metadata": {},
   "outputs": [],
   "source": [
    "sns.set(style='white', font_scale=1.5)\n",
    "df = sns.load_dataset('titanic')"
   ]
  },
  {
   "cell_type": "code",
   "execution_count": 1,
   "metadata": {},
   "outputs": [],
   "source": [
    "# Your code goes here\n"
   ]
  },
  {
   "cell_type": "markdown",
   "metadata": {},
   "source": [
    "In class we breifly discussed the `pclass` and sepculated what the ordering was for this class (i.e. does `1` represent 1st or does `3`). We can plot out the distribution of `fare` in each class to validate any intution we have.\n",
    "\n",
    "Use seaborn to make a boxplot of `fare` against each category of `pclass`. Additionally, remove the top and right-hand axes line."
   ]
  },
  {
   "cell_type": "code",
   "execution_count": 2,
   "metadata": {},
   "outputs": [],
   "source": [
    "# Your code goes here\n"
   ]
  },
  {
   "cell_type": "markdown",
   "metadata": {},
   "source": [
    "Given this distribtuion of fares which value of `pclass` do you think corresponds to 1st class?"
   ]
  },
  {
   "cell_type": "markdown",
   "metadata": {},
   "source": [
    "# Does Fare Price Relate to Whether Passangers Survived?\n",
    "\n",
    "We may want to explore where there is a relationship between the `fare` passangers paid and whether they survived. Create a boxplot to investigate this relationship."
   ]
  },
  {
   "cell_type": "code",
   "execution_count": 4,
   "metadata": {},
   "outputs": [],
   "source": [
    "# Your code goes here\n"
   ]
  },
  {
   "cell_type": "markdown",
   "metadata": {},
   "source": [
    "What do you notice about these distributions? Do they look skewed? Plot out a histogram of `fare` (for all passengers) to investigate the skew."
   ]
  },
  {
   "cell_type": "code",
   "execution_count": 5,
   "metadata": {},
   "outputs": [],
   "source": [
    "# Your code goes here\n"
   ]
  },
  {
   "cell_type": "markdown",
   "metadata": {},
   "source": [
    "In order to perform many statistical tests in data science we want data that is not skewed, one way of transforming data skewed data to be less skewed is to log transform it - as we did in the assingment. \n",
    "\n",
    "Create the same boxplot you did above categorized by whether they survived, but log transform the fare. (You may need to add a small value like `0.1` to avoid numerical issues with taking the `log` of `0` or a negative number. "
   ]
  },
  {
   "cell_type": "code",
   "execution_count": 6,
   "metadata": {},
   "outputs": [],
   "source": [
    "# Your code goes here\n"
   ]
  },
  {
   "cell_type": "markdown",
   "metadata": {},
   "source": [
    "After log transforming the data we can see that the data looks less skewed, we can test to see if there is a significant difference in fare between people who survived and those that did not. \n",
    "\n",
    "To test this difference we will perform a t-test, this is a standard statistical test that it used to see if a quantative measurement is different between groups, [here](http://docs.statwing.com/examples-and-definitions/t-test/) is a webpage that gives some description of the test. \n",
    "\n",
    "Using the `scipy` `ttest_ind` function test whether there is a significant difference. Remember to use log transformed `fare` values. "
   ]
  },
  {
   "cell_type": "code",
   "execution_count": 7,
   "metadata": {},
   "outputs": [],
   "source": [
    "# Your code goes here\n"
   ]
  },
  {
   "cell_type": "markdown",
   "metadata": {},
   "source": [
    "The p value here is very low which indicates that observed difference in fares would have been very unlikely had they been from the same distribution - i.e. this shows there is a significant difference in fare for those that survived vs those that did not."
   ]
  },
  {
   "cell_type": "markdown",
   "metadata": {},
   "source": [
    "# Plotting Aesthetics\n",
    "\n",
    "One of the great things about visualizing data is that it is often a more apealing way of view data and so the aesthetics of a plot can be something to consider. A benefit of `seaborn` is that the plots it creates are usually very nice looking, but there are different settings one can use for particular tastes or contexts (e.g. presenting in a talk vs displaying on a webpage). [This page](https://seaborn.pydata.org/tutorial/aesthetics.html) shows some of the different aesthetic options that be made within seaborn. \n",
    "\n",
    "Explore some of these choices with the plots above to see what you like best."
   ]
  }
 ],
 "metadata": {
  "kernelspec": {
   "display_name": "Python 3",
   "language": "python",
   "name": "python3"
  },
  "language_info": {
   "codemirror_mode": {
    "name": "ipython",
    "version": 3
   },
   "file_extension": ".py",
   "mimetype": "text/x-python",
   "name": "python",
   "nbconvert_exporter": "python",
   "pygments_lexer": "ipython3",
   "version": "3.7.1"
  }
 },
 "nbformat": 4,
 "nbformat_minor": 2
}
